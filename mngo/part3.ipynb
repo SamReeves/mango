{
 "cells": [
  {
   "attachments": {},
   "cell_type": "markdown",
   "metadata": {},
   "source": [
    "## Risk Management for Investors\n",
    "---\n",
    "\n",
    "\n",
    "### Block Chain Forensics\n",
    "\n",
    "Block chain forensics entails combing through the blocks of transactions relevant to a given market, which can be read directly from the host chain.  This goes a few steps beyond what we have shown above with the OHLC-V data.  While the price data may be enough to alert users that an attack is goin on, these attacks happen with massive microtransactions.  For now stopping these attacks in progress is not practical.  We must examine the history so that we can prevent such events.\n",
    "\n",
    "The goal with forensics is to pull more information about actual wallet addresses and direct calls, rather than aggregate data.  In many cases, there are API endpoints available to simplify this process.\n",
    "\n",
    "All of the endpoints for Mango Markets data are down.  These return actual .csv files with correctly titled columns, however, there are no rows of data.  The mango markets python library is also defunct."
   ]
  },
  {
   "cell_type": "code",
   "execution_count": null,
   "metadata": {},
   "outputs": [],
   "source": [
    "import pandas as pd\n",
    "asset = \"MNGO-PERP\"\n",
    "\n",
    "funding = pd.read_csv(\"https://mangolorians.com/historical_data/funding_rates.csv?instrument=\" + asset)\n",
    "trades = pd.read_csv(\"https://mangolorians.com/historical_data/trades.csv?instrument=\" + asset)\n",
    "liquidations = pd.read_csv(\"https://mangolorians.com/historical_data/liquidations.csv?instrument=\" + asset)\n",
    "\n",
    "# examine data\n",
    "print(funding, trades, liquidations)"
   ]
  },
  {
   "attachments": {},
   "cell_type": "markdown",
   "metadata": {},
   "source": [
    "A search through github reveals that the Blockworks Foundation (which made Mango Markets) put out an app to help liquidate old accounts, and there is no code available for our purpose apart from the mangolorians website repo.\n",
    "\n",
    "Solscan has a link to only one \"ad hoc report\" under its analytics menu item.  The title of the page is \"Mango Markets Exploit\". This links to a broken page with 3 sections.  The first is \"Hacker's Wallet\" followed by \"Exploitation Inflow Details\" and \"Exploitation Outflow Details\".\n",
    "\n",
    "https://beta-analysis.solscan.io/public/dashboard/813a35cd-48b2-4e26-8ed9-6d67e2b6f029 \n",
    "\n",
    "\n",
    "### Dune Analytics\n",
    "\n",
    "Dune is a service that offers a PostgreSQL-like or Spark-like interface for queries of block chain data.  There is also the option to easily dashboard these views.\n",
    "\n",
    "If we filter the Solana chain blocks for the day and we take a sample of just 2000 so as not to crash the browser, we can see something interesting:\n",
    "\n",
    "![Dune Query](dunesql.png)\n",
    "\n",
    "![Balances Pre/Post](balances.png)\n",
    "\n",
    "Large balance shifts coincide with the attack.\n",
    "\n",
    "![Transaction Types](signed.png)\n",
    "\n",
    "The number of unsigned read-only addresses introduced into each blocks holds for a time period that coincides with the attack.  There are two distrinct and opposite phases to the attack.  An initial forced pushed on the price, pause, and then a massive short.  Even if somebody knew this was happening, they wouldn't have time to engineer the coordinated effort to beat him to the short.  This was so heavy, that it is visible in the regular Solana block history.\n",
    "\n",
    "\n",
    "By examining the blocks more carefully, we can learn about how these market manipulations take place.  Or, it may be even simpler to train a Naive Bayes classifier on these statistics.  Neural networks trained on this data may be able to tell you exactly who is in the early stages of an attack, and generic smart contracts can be written to drain large positions in accordance with these triggers.\n",
    "\n",
    "The greatest challenge lies in determining what constitutes an illegal trading strategy.  There are other large market activities in the earlier history which clearly resulted in great losses to the market capitalization.  The current case against Eisenberg will determine what is considered a valid short and what is considered illegal.  It appears the only observable difference is the time frame across which the losses of capital occur, and that the final vulture is the one who is culpable."
   ]
  }
 ],
 "metadata": {
  "kernelspec": {
   "display_name": "venv",
   "language": "python",
   "name": "python3"
  },
  "language_info": {
   "name": "python",
   "version": "3.9.2 (default, Feb 28 2021, 17:03:44) \n[GCC 10.2.1 20210110]"
  },
  "orig_nbformat": 4,
  "vscode": {
   "interpreter": {
    "hash": "cb85a0825ba234057f7d350d4cb9f1e1431f77730c51c304098b054df33d6ce7"
   }
  }
 },
 "nbformat": 4,
 "nbformat_minor": 2
}
