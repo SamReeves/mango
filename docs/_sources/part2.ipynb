{
 "cells": [
  {
   "attachments": {},
   "cell_type": "markdown",
   "metadata": {},
   "source": [
    "## Risk Management for DEX / DAO\n",
    "---\n",
    "\n",
    "From the perspective of the Mango Markets platform, \"perps\" as implemented are just not a sound plan.\n",
    "\n",
    "More than a hundred years of modern banking regulatory history has separated the operations of borrowing, lending, and liquidity markets.  When all three are combined into one instrument with high leverage allowed, market participants are (arguably) incentivized toward heist.\n",
    "\n",
    "### Platform Economic Structural Review\n",
    "\n",
    "I recommend an economic systems audit after a technical one.  Neodyme did a thorough job auditing the technical systems of Mango Markets, but they had no problem with the way banking operations could be combined. They examined safety from a standpoint of preventing inauthentic transactions or direct theft via \"backdoor\" access.\n",
    "\n",
    "At this point in the history of blockchain tech, these issues are relatively simpler to solve.  However, if these \"perps\" were not baked into the source code and community culture, mass market manipulations would have to take a completely different form.\n",
    "\n",
    "Firms and governments receive credit ratings based on their balance of payments.  For the purposes of categorizing a variety of protocols, it may make more sense to have a checklist of features (a fully populated matrix), instead of a vector from AAA to junk.\n",
    "\n",
    "It's unclear what features may be common enough to include in this rating system, however the goal of this type of audit is to identify real world pyramid structures before they are liquidated.\n",
    "\n",
    "### Red Team vs. Blue Team Exercises\n",
    "\n",
    "Following an audit which classifies a DEX as a target, it should be proven by performing a small attack.  The web3 ecosystem badly needs research into malicious activity.  Unfortunately, this would probably be just as illegal as the Mango Markets Fiasco.  I am unsure what to suggest for this type of activity, but smart contracts are hosted on test nets like goerli or rinkeby before they are pushed to the main network.\n",
    "\n",
    "Perhaps, hosting a testnet where participants are given fixed amounts of some ETH/SOL fork token, and rewarded with stablecoins at the end of a 3 month cycle could tell us about what to expect on the main net DEX.  Massive manipulations would be rewarded and users who could weather these events or crack them would make the leaderboard.\n",
    "\n",
    "Research concerning economic attacks -- runs on the bank -- should stay far away from anything with free market value."
   ]
  }
 ],
 "metadata": {
  "kernelspec": {
   "display_name": "venv",
   "language": "python",
   "name": "python3"
  },
  "language_info": {
   "name": "python",
   "version": "3.9.2 (default, Feb 28 2021, 17:03:44) \n[GCC 10.2.1 20210110]"
  },
  "orig_nbformat": 4,
  "vscode": {
   "interpreter": {
    "hash": "cb85a0825ba234057f7d350d4cb9f1e1431f77730c51c304098b054df33d6ce7"
   }
  }
 },
 "nbformat": 4,
 "nbformat_minor": 2
}
